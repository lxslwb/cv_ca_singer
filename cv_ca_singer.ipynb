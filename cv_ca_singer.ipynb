{
 "cells": [
  {
   "cell_type": "code",
   "execution_count": 1,
   "id": "dd5ec7fe-8c37-43e5-902d-5030b00c6d5e",
   "metadata": {
    "tags": []
   },
   "outputs": [],
   "source": [
    "import numpy as np\n",
    "import sympy\n",
    "import matplotlib.pyplot as plt"
   ]
  },
  {
   "cell_type": "markdown",
   "id": "07d29e4c-eb6b-4d5e-a479-64963c05ec2c",
   "metadata": {
    "tags": []
   },
   "source": [
    " "
   ]
  },
  {
   "cell_type": "markdown",
   "id": "c3917448-ec3a-4c41-ac06-5f3df4b0d919",
   "metadata": {
    "tags": []
   },
   "source": [
    "### CV(constant velocity) 匀速直线运动模型\n",
    "状态变量 \n",
    "$X = \\begin{bmatrix}\n",
    "    x  \\\\\n",
    "    y  \\\\\n",
    "    z  \\\\\n",
    "    \\dot{x} \\\\\n",
    "    \\dot{y} \\\\\n",
    "    \\dot{z}\n",
    "\\end{bmatrix}$  \n",
    "  \n",
    "  \n",
    "状态方程\n",
    "$\n",
    "\\begin{align*}\n",
    "f = \n",
    "\\begin{bmatrix}\n",
    "x_k \\\\\n",
    "y_k \\\\\n",
    "z_k \\\\\n",
    "\\dot{x}_k \\\\\n",
    "\\dot{y}_k \\\\\n",
    "\\dot{z}_k\n",
    "\\end{bmatrix}\n",
    "=\n",
    "Ax_{k-1}\n",
    "=\n",
    "\\begin{bmatrix}\n",
    "1 & 0 & 0 & \\Delta t & 0 & 0 \\\\\n",
    "0 & 1 & 0 & 0 & \\Delta t & 0 \\\\\n",
    "0 & 0 & 1 & 0 & 0 & \\Delta t \\\\\n",
    "0 & 0 & 0 & 1 & 0 & 0 \\\\\n",
    "0 & 0 & 0 & 0 & 1 & 0 \\\\\n",
    "0 & 0 & 0 & 0 & 0 & 1\n",
    "\\end{bmatrix}\n",
    "\\begin{bmatrix}\n",
    "    x_{k-1}  \\\\\n",
    "    y_{k-1}  \\\\\n",
    "    z_{k-1}  \\\\\n",
    "    \\dot{x}_{k-1} \\\\\n",
    "    \\dot{y}_{k-1} \\\\\n",
    "    \\dot{z}_{k-1}\n",
    "\\end{bmatrix}\n",
    "=\n",
    "\\begin{bmatrix}\n",
    "x_{k-1} + \\dot{x}_{k-1} \\cdot \\Delta t \\\\\n",
    "y_{k-1} + \\dot{y}_{k-1} \\cdot \\Delta t \\\\\n",
    "z_{k-1} + \\dot{z}_{k-1} \\cdot \\Delta t \\\\\n",
    "\\dot{x}_{k-1} \\\\\n",
    "\\dot{y}_{k-1} \\\\\n",
    "\\dot{z}_{k-1} \n",
    "\\end{bmatrix}\n",
    "\\end{align*}\n",
    "$\n",
    "  \n",
    "  \n",
    "观测方程\n",
    "$y = Hx_{k-1} =\n",
    "\\begin{bmatrix}\n",
    "    x_{k-1}  \\\\\n",
    "    y_{k-1}  \\\\\n",
    "    z_{k-1}  \\\\\n",
    "    \\dot{x}_{k-1} \\\\\n",
    "    \\dot{y}_{k-1} \\\\\n",
    "    \\dot{z}_{k-1} \n",
    "\\end{bmatrix}\n",
    "$"
   ]
  },
  {
   "cell_type": "code",
   "execution_count": 1,
   "id": "1704c529-04cc-4e47-a439-4c0f8052fd34",
   "metadata": {
    "tags": []
   },
   "outputs": [],
   "source": [
    "from model_symbol.dynamical_model import f_cv_sym"
   ]
  },
  {
   "cell_type": "code",
   "execution_count": 2,
   "id": "ed22fdcd-b964-4b61-b980-a055f2717079",
   "metadata": {
    "tags": []
   },
   "outputs": [
    {
     "data": {
      "text/latex": [
       "$\\displaystyle \\left[\\begin{matrix}\\dot{x} {\\Delta}t + x\\\\\\dot{y} {\\Delta}t + y\\\\\\dot{z} {\\Delta}t + z\\\\\\dot{x}\\\\\\dot{y}\\\\\\dot{z}\\end{matrix}\\right]$"
      ],
      "text/plain": [
       "Matrix([\n",
       "[\\dot{x}*{\\Delta}t + x],\n",
       "[\\dot{y}*{\\Delta}t + y],\n",
       "[\\dot{z}*{\\Delta}t + z],\n",
       "[              \\dot{x}],\n",
       "[              \\dot{y}],\n",
       "[              \\dot{z}]])"
      ]
     },
     "execution_count": 2,
     "metadata": {},
     "output_type": "execute_result"
    }
   ],
   "source": [
    "f_cv_sym"
   ]
  },
  {
   "cell_type": "markdown",
   "id": "b395d5ce-7252-4cf4-9d05-939116a171d5",
   "metadata": {
    "tags": []
   },
   "source": [
    "### CA(constant acceleration) 恒定加速度模型\n",
    "状态变量 \n",
    "$X = \\begin{bmatrix}\n",
    "    x  \\\\\n",
    "    y  \\\\\n",
    "    z  \\\\\n",
    "    \\dot{x} \\\\\n",
    "    \\dot{y} \\\\\n",
    "    \\dot{z} \\\\\n",
    "    \\ddot{x} \\\\\n",
    "    \\ddot{y} \\\\\n",
    "    \\ddot{z}\n",
    "\\end{bmatrix}$  \n",
    "  \n",
    "  \n",
    "状态方程\n",
    "$\n",
    "\\begin{align*}\n",
    "f = \n",
    "\\begin{bmatrix}\n",
    "x_k \\\\\n",
    "y_k \\\\\n",
    "z_k \\\\\n",
    "\\dot{x}_k \\\\\n",
    "\\dot{y}_k \\\\\n",
    "\\dot{z}_k \\\\\n",
    "\\ddot{x}_k \\\\\n",
    "\\ddot{y}_k \\\\\n",
    "\\ddot{z}_k\n",
    "\\end{bmatrix}\n",
    "=\n",
    "Ax_{k-1}\n",
    "=\n",
    "\\begin{bmatrix}\n",
    "1 & 0 & 0 & \\Delta t & 0 & 0 & \\frac{1}{2} \\Delta t^2 & 0 & 0 \\\\\n",
    "0 & 1 & 0 & 0 & \\Delta t & 0 & 0 & \\frac{1}{2} \\Delta t^2 & 0 \\\\\n",
    "0 & 0 & 1 & 0 & 0 & \\Delta t & 0 & 0 & \\frac{1}{2} \\Delta t^2 \\\\\n",
    "0 & 0 & 0 & 1 & 0 & 0 & \\Delta t & 0 & 0 \\\\\n",
    "0 & 0 & 0 & 0 & 1 & 0 & 0 & \\Delta t & 0 \\\\\n",
    "0 & 0 & 0 & 0 & 0 & 1 & 0 & 0 & \\Delta t \\\\\n",
    "0 & 0 & 0 & 0 & 0 & 0 & 1 & 0 & 0 \\\\\n",
    "0 & 0 & 0 & 0 & 0 & 0 & 0 & 1 & 0 \\\\\n",
    "0 & 0 & 0 & 0 & 0 & 0 & 0 & 0 & 1 \\\\\n",
    "\\end{bmatrix}\n",
    "\\begin{bmatrix}\n",
    "    x_{k-1}  \\\\\n",
    "    y_{k-1}  \\\\\n",
    "    z_{k-1}  \\\\\n",
    "    \\dot{x}_{k-1} \\\\\n",
    "    \\dot{y}_{k-1} \\\\\n",
    "    \\dot{z}_{k-1} \\\\\n",
    "    \\ddot{x}_{k-1} \\\\\n",
    "    \\ddot{y}_{k-1} \\\\\n",
    "    \\ddot{z}_{k-1}\n",
    "\\end{bmatrix}\n",
    "=\n",
    "\\begin{bmatrix}\n",
    "x_{k-1} + \\dot{x}_{k-1} \\cdot \\Delta t + \\frac{1}{2} \\ddot{x}_{k-1} \\cdot \\Delta t^2 \\\\\n",
    "y_{k-1} + \\dot{y}_{k-1} \\cdot \\Delta t + \\frac{1}{2} \\ddot{y}_{k-1} \\cdot \\Delta t^2 \\\\\n",
    "z_{k-1} + \\dot{z}_{k-1} \\cdot \\Delta t + \\frac{1}{2} \\ddot{z}_{k-1} \\cdot \\Delta t^2 \\\\\n",
    "\\dot{x}_{k-1} + \\ddot{x}_{k-1} \\cdot \\Delta t \\\\\n",
    "\\dot{y}_{k-1} + \\ddot{y}_{k-1} \\cdot \\Delta t \\\\\n",
    "\\dot{z}_{k-1} + \\ddot{z}_{k-1} \\cdot \\Delta t \\\\\n",
    "\\ddot{x}_{k-1} \\\\\n",
    "\\ddot{y}_{k-1} \\\\\n",
    "\\ddot{z}_{k-1}\n",
    "\\end{bmatrix}\n",
    "\\end{align*}\n",
    "$\n",
    "  \n",
    "  \n",
    "观测方程\n",
    "$y = Hx_{k-1} =\n",
    "\\begin{bmatrix}\n",
    "    x_{k-1}  \\\\\n",
    "    y_{k-1}  \\\\\n",
    "    z_{k-1}  \\\\\n",
    "    \\dot{x}_{k-1} \\\\\n",
    "    \\dot{y}_{k-1} \\\\\n",
    "    \\dot{z}_{k-1} \n",
    "\\end{bmatrix}\n",
    "$"
   ]
  },
  {
   "cell_type": "code",
   "execution_count": 3,
   "id": "29e5a602-dcd1-4478-96dc-93330437e985",
   "metadata": {
    "tags": []
   },
   "outputs": [],
   "source": [
    "from model_symbol.dynamical_model import f_ca_sym"
   ]
  },
  {
   "cell_type": "code",
   "execution_count": 4,
   "id": "2d31e987-be82-4faf-b52e-6b6c3fc114d2",
   "metadata": {
    "tags": []
   },
   "outputs": [
    {
     "data": {
      "text/latex": [
       "$\\displaystyle \\left[\\begin{matrix}0.5 \\ddot{x} {\\Delta}t^{2} + \\dot{x} {\\Delta}t + x\\\\0.5 \\ddot{y} {\\Delta}t^{2} + \\dot{y} {\\Delta}t + y\\\\0.5 \\ddot{z} {\\Delta}t^{2} + \\dot{z} {\\Delta}t + z\\\\\\ddot{x} {\\Delta}t + \\dot{x}\\\\\\ddot{y} {\\Delta}t + \\dot{x}\\\\\\ddot{z} {\\Delta}t + \\dot{x}\\\\\\ddot{x}\\\\\\ddot{y}\\\\\\ddot{z}\\end{matrix}\\right]$"
      ],
      "text/plain": [
       "Matrix([\n",
       "[0.5*\\ddot{x}*{\\Delta}t**2 + \\dot{x}*{\\Delta}t + x],\n",
       "[0.5*\\ddot{y}*{\\Delta}t**2 + \\dot{y}*{\\Delta}t + y],\n",
       "[0.5*\\ddot{z}*{\\Delta}t**2 + \\dot{z}*{\\Delta}t + z],\n",
       "[                     \\ddot{x}*{\\Delta}t + \\dot{x}],\n",
       "[                     \\ddot{y}*{\\Delta}t + \\dot{x}],\n",
       "[                     \\ddot{z}*{\\Delta}t + \\dot{x}],\n",
       "[                                         \\ddot{x}],\n",
       "[                                         \\ddot{y}],\n",
       "[                                         \\ddot{z}]])"
      ]
     },
     "execution_count": 4,
     "metadata": {},
     "output_type": "execute_result"
    }
   ],
   "source": [
    "f_ca_sym"
   ]
  },
  {
   "cell_type": "markdown",
   "id": "e2738057-7af0-4ce4-ae33-f98cb4ddbdec",
   "metadata": {},
   "source": [
    "### Singer 非机动目标模型"
   ]
  },
  {
   "cell_type": "markdown",
   "id": "32d11934-4b42-4a89-af20-076369dcb164",
   "metadata": {},
   "source": [
    "状态变量 \n",
    "$X = \\begin{bmatrix}\n",
    "    x  \\\\\n",
    "    y  \\\\\n",
    "    z  \\\\\n",
    "    \\dot{x} \\\\\n",
    "    \\dot{y} \\\\\n",
    "    \\dot{z} \\\\\n",
    "    \\ddot{x} \\\\\n",
    "    \\ddot{y} \\\\\n",
    "    \\ddot{z}\n",
    "\\end{bmatrix}$  \n",
    "  \n",
    "  \n",
    "状态方程\n",
    "$\n",
    "\\begin{align*}\n",
    "f = \n",
    "\\begin{bmatrix}\n",
    "x_k \\\\\n",
    "y_k \\\\\n",
    "z_k \\\\\n",
    "\\dot{x}_k \\\\\n",
    "\\dot{y}_k \\\\\n",
    "\\dot{z}_k \\\\\n",
    "\\ddot{x}_k \\\\\n",
    "\\ddot{y}_k \\\\\n",
    "\\ddot{z}_k\n",
    "\\end{bmatrix}\n",
    "=\n",
    "Ax_{k-1}\n",
    "=\n",
    "\\begin{bmatrix}\n",
    "1 & 0 & 0 & \\Delta t & 0 & 0 & (\\alpha \\Delta t - 1 + e^{-\\alpha \\Delta t}) / \\alpha^2 & 0 & 0 \\\\\n",
    "0 & 1 & 0 & 0 & \\Delta t & 0 & 0 & (\\alpha \\Delta t - 1 + e^{-\\alpha \\Delta t}) / \\alpha^2 & 0 \\\\\n",
    "0 & 0 & 1 & 0 & 0 & \\Delta t & 0 & 0 & (\\alpha \\Delta t - 1 + e^{-\\alpha \\Delta t}) / \\alpha^2 & 0 \\\\\n",
    "0 & 0 & 0 & 1 & 0 & 0 & (1 - e^{-\\alpha \\Delta t}) / \\alpha & 0 & 0 \\\\\n",
    "0 & 0 & 0 & 0 & 1 & 0 & 0 & (1 - e^{-\\alpha \\Delta t}) / \\alpha & 0 \\\\\n",
    "0 & 0 & 0 & 0 & 0 & 1 & 0 & 0 & (1 - e^{-\\alpha \\Delta t}) / \\alpha \\\\\n",
    "0 & 0 & 0 & 0 & 0 & 0 & e^{-\\alpha \\Delta t} & 0 & 0 \\\\\n",
    "0 & 0 & 0 & 0 & 0 & 0 & 0 & e^{-\\alpha \\Delta t} & 0 \\\\\n",
    "0 & 0 & 0 & 0 & 0 & 0 & 0 & 0 & e^{-\\alpha \\Delta t} \\\\\n",
    "\\end{bmatrix}\n",
    "\\begin{bmatrix}\n",
    "    x_{k-1}  \\\\\n",
    "    y_{k-1}  \\\\\n",
    "    z_{k-1}  \\\\\n",
    "    \\dot{x}_{k-1} \\\\\n",
    "    \\dot{y}_{k-1} \\\\\n",
    "    \\dot{z}_{k-1} \\\\\n",
    "    \\ddot{x}_{k-1} \\\\\n",
    "    \\ddot{y}_{k-1} \\\\\n",
    "    \\ddot{z}_{k-1}\n",
    "\\end{bmatrix}\n",
    "\\end{align*}\n",
    "$\n",
    "  \n",
    "  \n",
    "观测方程\n",
    "$y = Hx_{k-1} =\n",
    "\\begin{bmatrix}\n",
    "    x_{k-1}  \\\\\n",
    "    y_{k-1}  \\\\\n",
    "    z_{k-1}  \\\\\n",
    "    \\dot{x}_{k-1} \\\\\n",
    "    \\dot{y}_{k-1} \\\\\n",
    "    \\dot{z}_{k-1} \n",
    "\\end{bmatrix}\n",
    "$"
   ]
  },
  {
   "cell_type": "code",
   "execution_count": 5,
   "id": "c6465f31-54c5-45ad-a122-6566811a795a",
   "metadata": {
    "tags": []
   },
   "outputs": [],
   "source": [
    "from model_symbol.dynamical_model import f_singer_sym"
   ]
  },
  {
   "cell_type": "code",
   "execution_count": 6,
   "id": "f608d9e6-8666-4e81-af93-94a9f6c50c28",
   "metadata": {
    "tags": []
   },
   "outputs": [
    {
     "data": {
      "text/latex": [
       "$\\displaystyle \\left[\\begin{matrix}\\frac{\\ddot{x} \\left(a {\\Delta}t - 1 + e^{- a {\\Delta}t}\\right)}{a^{2}} + \\dot{x} {\\Delta}t + x\\\\\\frac{\\ddot{y} \\left(a {\\Delta}t - 1 + e^{- a {\\Delta}t}\\right)}{a^{2}} + \\dot{y} {\\Delta}t + y\\\\\\frac{\\ddot{z} \\left(a {\\Delta}t - 1 + e^{- a {\\Delta}t}\\right)}{a^{2}} + \\dot{z} {\\Delta}t + z\\\\\\frac{\\ddot{x} \\left(1 - e^{- a {\\Delta}t}\\right)}{a} + \\dot{x}\\\\\\frac{\\ddot{y} \\left(1 - e^{- a {\\Delta}t}\\right)}{a} + \\dot{x}\\\\\\frac{\\ddot{z} \\left(1 - e^{- a {\\Delta}t}\\right)}{a} + \\dot{x}\\\\\\ddot{x} e^{- a {\\Delta}t}\\\\\\ddot{y} e^{- a {\\Delta}t}\\\\\\ddot{z} e^{- a {\\Delta}t}\\end{matrix}\\right]$"
      ],
      "text/plain": [
       "Matrix([\n",
       "[\\ddot{x}*(a*{\\Delta}t - 1 + exp(-a*{\\Delta}t))/a**2 + \\dot{x}*{\\Delta}t + x],\n",
       "[\\ddot{y}*(a*{\\Delta}t - 1 + exp(-a*{\\Delta}t))/a**2 + \\dot{y}*{\\Delta}t + y],\n",
       "[\\ddot{z}*(a*{\\Delta}t - 1 + exp(-a*{\\Delta}t))/a**2 + \\dot{z}*{\\Delta}t + z],\n",
       "[                               \\ddot{x}*(1 - exp(-a*{\\Delta}t))/a + \\dot{x}],\n",
       "[                               \\ddot{y}*(1 - exp(-a*{\\Delta}t))/a + \\dot{x}],\n",
       "[                               \\ddot{z}*(1 - exp(-a*{\\Delta}t))/a + \\dot{x}],\n",
       "[                                                 \\ddot{x}*exp(-a*{\\Delta}t)],\n",
       "[                                                 \\ddot{y}*exp(-a*{\\Delta}t)],\n",
       "[                                                 \\ddot{z}*exp(-a*{\\Delta}t)]])"
      ]
     },
     "execution_count": 6,
     "metadata": {},
     "output_type": "execute_result"
    }
   ],
   "source": [
    "f_singer_sym"
   ]
  }
 ],
 "metadata": {
  "kernelspec": {
   "display_name": "Python 3 (ipykernel)",
   "language": "python",
   "name": "python3"
  },
  "language_info": {
   "codemirror_mode": {
    "name": "ipython",
    "version": 3
   },
   "file_extension": ".py",
   "mimetype": "text/x-python",
   "name": "python",
   "nbconvert_exporter": "python",
   "pygments_lexer": "ipython3",
   "version": "3.11.0"
  }
 },
 "nbformat": 4,
 "nbformat_minor": 5
}
